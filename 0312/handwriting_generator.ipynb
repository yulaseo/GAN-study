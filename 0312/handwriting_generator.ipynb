{
  "nbformat": 4,
  "nbformat_minor": 0,
  "metadata": {
    "colab": {
      "name": "handwriting generator",
      "provenance": [],
      "authorship_tag": "ABX9TyMbPe1i84/LmLY16XAerQq+",
      "include_colab_link": true
    },
    "kernelspec": {
      "name": "python3",
      "display_name": "Python 3"
    },
    "accelerator": "GPU"
  },
  "cells": [
    {
      "cell_type": "markdown",
      "metadata": {
        "id": "view-in-github",
        "colab_type": "text"
      },
      "source": [
        "<a href=\"https://colab.research.google.com/github/yulaseo/GAN-study/blob/main/handwriting_generator.ipynb\" target=\"_parent\"><img src=\"https://colab.research.google.com/assets/colab-badge.svg\" alt=\"Open In Colab\"/></a>"
      ]
    },
    {
      "cell_type": "code",
      "metadata": {
        "id": "Wx2AjNNjFwBQ"
      },
      "source": [
        "### 라이브러리 및 데이터 불러오기\r\n",
        "# 필요한 라이브러리를 불러온다.\r\n",
        "import torch\r\n",
        "import torch.nn as nn\r\n",
        "from torch.optim import Adam\r\n",
        "from torchvision import datasets, transforms\r\n",
        "from torch.utils.data import DataLoader\r\n",
        "from torch.autograd import Variable\r\n",
        "import pickle\r\n",
        "\r\n",
        "# 데이터 전처리 방식을 지정한다.\r\n",
        "transform = transforms.Compose([\r\n",
        "        transforms.ToTensor(), # 데이터를 PyTorch의 Tensor 형식으로 바꾼다.\r\n",
        "        transforms.Normalize(mean=(0.5,), std=(0.5,)) # 픽셀값 0 ~ 1 -> -1 ~ 1\r\n",
        "])\r\n",
        "\r\n",
        "# MNIST 데이터셋을 불러온다. 지정한 폴더에 없을 경우 자동으로 다운로드한다.\r\n",
        "mnist = datasets.MNIST(root='data', download=True, transform=transform)\r\n",
        "\r\n",
        "# 데이터를 한번에 batch_size만큼만 가져오는 dataloader를 만든다.\r\n",
        "dataloader = DataLoader(mnist, batch_size=60, shuffle=True)"
      ],
      "execution_count": 1,
      "outputs": []
    },
    {
      "cell_type": "code",
      "metadata": {
        "id": "NzJ-g5W1Fylo"
      },
      "source": [
        "import os\r\n",
        "import imageio\r\n",
        "\r\n",
        "if torch.cuda.is_available():\r\n",
        "    use_gpu = True\r\n",
        "leave_log = True\r\n",
        "if leave_log:\r\n",
        "    result_dir = 'GAN_generated_images'\r\n",
        "    if not os.path.isdir(result_dir):\r\n",
        "        os.mkdir(result_dir)"
      ],
      "execution_count": 2,
      "outputs": []
    },
    {
      "cell_type": "code",
      "metadata": {
        "id": "fzgwxc6VFz-A"
      },
      "source": [
        "### GAN의 생성자(Generator)\r\n",
        "# 생성자는 랜덤 벡터 z를 입력으로 받아 가짜 이미지를 출력한다.\r\n",
        "class Generator(nn.Module):\r\n",
        "\r\n",
        "    # 네트워크 구조\r\n",
        "    def __init__(self):\r\n",
        "        super(Generator, self).__init__()\r\n",
        "        self.main = nn.Sequential(\r\n",
        "            nn.Linear(in_features=100, out_features=256),\r\n",
        "            nn.LeakyReLU(0.2, inplace=True),\r\n",
        "            nn.Linear(in_features=256, out_features=512),\r\n",
        "            nn.LeakyReLU(0.2, inplace=True),\r\n",
        "            nn.Linear(in_features=512, out_features=1024),\r\n",
        "            nn.LeakyReLU(0.2, inplace=True),\r\n",
        "            nn.Linear(in_features=1024, out_features=28*28),\r\n",
        "            nn.Tanh())\r\n",
        "    \r\n",
        "    # (batch_size x 100) 크기의 랜덤 벡터를 받아 \r\n",
        "    # 이미지를 (batch_size x 1 x 28 x 28) 크기로 출력한다.\r\n",
        "    def forward(self, inputs):\r\n",
        "        return self.main(inputs).view(-1, 1, 28, 28)"
      ],
      "execution_count": 3,
      "outputs": []
    },
    {
      "cell_type": "code",
      "metadata": {
        "id": "0WzCmcdbT8_1"
      },
      "source": [
        "### GAN의 구분자(Discriminator)\r\n",
        "# 구분자는 이미지를 입력으로 받아 이미지가 진짜인지 가짜인지 출력한다.\r\n",
        "class Discriminator(nn.Module):\r\n",
        "    \r\n",
        "    # 네트워크 구조\r\n",
        "    def __init__(self):\r\n",
        "        super(Discriminator, self).__init__()\r\n",
        "        self.main = nn.Sequential(\r\n",
        "            nn.Linear(in_features=28*28, out_features=1024),\r\n",
        "            nn.LeakyReLU(0.2, inplace=True),\r\n",
        "            nn.Dropout(inplace=True),\r\n",
        "            nn.Linear(in_features=1024, out_features=512),\r\n",
        "            nn.LeakyReLU(0.2, inplace=True),\r\n",
        "            nn.Dropout(inplace=True),\r\n",
        "            nn.Linear(in_features=512, out_features=256),\r\n",
        "            nn.LeakyReLU(0.2, inplace=True),\r\n",
        "            nn.Dropout(inplace=True),\r\n",
        "            nn.Linear(in_features=256, out_features=1),\r\n",
        "            nn.Sigmoid())\r\n",
        "    \r\n",
        "    # (batch_size x 1 x 28 x 28) 크기의 이미지를 받아\r\n",
        "    # 이미지가 진짜일 확률을 0~1 사이로 출력한다.\r\n",
        "    def forward(self, inputs):\r\n",
        "        inputs = inputs.view(-1, 28*28)\r\n",
        "        return self.main(inputs)"
      ],
      "execution_count": 4,
      "outputs": []
    },
    {
      "cell_type": "code",
      "metadata": {
        "id": "p85fMX7wF8tC"
      },
      "source": [
        "### 생성자와 구분자 객체 만들기\r\n",
        "G = Generator()\r\n",
        "D = Discriminator()\r\n",
        "\r\n",
        "if use_gpu:\r\n",
        "    G.cuda()\r\n",
        "    D.cuda()"
      ],
      "execution_count": 5,
      "outputs": []
    },
    {
      "cell_type": "code",
      "metadata": {
        "id": "rT9b1zqrNtgT"
      },
      "source": [
        "### 손실 함수와 최적화 기법 지정하기\r\n",
        "# Binary Cross Entropy loss\r\n",
        "criterion = nn.BCELoss()\r\n",
        "\r\n",
        "# 생성자의 매개 변수를 최적화하는 Adam optimizer\r\n",
        "G_optimizer = Adam(G.parameters(), lr=0.0002, betas=(0.5, 0.999))\r\n",
        "# 구분자의 매개 변수를 최적화하는 Adam optimizer\r\n",
        "D_optimizer = Adam(D.parameters(), lr=0.0002, betas=(0.5, 0.999))"
      ],
      "execution_count": 6,
      "outputs": []
    },
    {
      "cell_type": "code",
      "metadata": {
        "id": "uLwPe2-3NuX-"
      },
      "source": [
        "# 학습 결과 시각화하기\r\n",
        "%matplotlib inline\r\n",
        "from matplotlib import pyplot as plt\r\n",
        "import numpy as np\r\n",
        "\r\n",
        "def square_plot(data, path):\r\n",
        "    \"\"\"Take an array of shape (n, height, width) or (n, height, width , 3)\r\n",
        "       and visualize each (height, width) thing in a grid of size approx. sqrt(n) by sqrt(n)\"\"\"\r\n",
        "\r\n",
        "    if type(data) == list:\r\n",
        "\t    data = np.concatenate(data)\r\n",
        "    # normalize data for display\r\n",
        "    data = (data - data.min()) / (data.max() - data.min())\r\n",
        "\r\n",
        "    # force the number of filters to be square\r\n",
        "    n = int(np.ceil(np.sqrt(data.shape[0])))\r\n",
        "\r\n",
        "    padding = (((0, n ** 2 - data.shape[0]) ,\r\n",
        "                (0, 1), (0, 1))  # add some space between filters\r\n",
        "               + ((0, 0),) * (data.ndim - 3))  # don't pad the last dimension (if there is one)\r\n",
        "    data = np.pad(data , padding, mode='constant' , constant_values=1)  # pad with ones (white)\r\n",
        "\r\n",
        "    # tilethe filters into an image\r\n",
        "    data = data.reshape((n , n) + data.shape[1:]).transpose((0 , 2 , 1 , 3) + tuple(range(4 , data.ndim + 1)))\r\n",
        "\r\n",
        "    data = data.reshape((n * data.shape[1] , n * data.shape[3]) + data.shape[4:])\r\n",
        "\r\n",
        "    plt.imsave(path, data, cmap='gray')"
      ],
      "execution_count": 7,
      "outputs": []
    },
    {
      "cell_type": "code",
      "metadata": {
        "colab": {
          "base_uri": "https://localhost:8080/"
        },
        "id": "kDIIUwTWNujO",
        "outputId": "95b21d92-a5a6-4ca3-cdb9-5fe59801382a"
      },
      "source": [
        "if leave_log:\r\n",
        "    train_hist = {}\r\n",
        "    train_hist['D_losses'] = []\r\n",
        "    train_hist['G_losses'] = []\r\n",
        "    generated_images = []\r\n",
        "    \r\n",
        "z_fixed = Variable(torch.randn(5 * 5, 100), volatile=True)\r\n",
        "if use_gpu:\r\n",
        "    z_fixed = z_fixed.cuda()"
      ],
      "execution_count": 8,
      "outputs": [
        {
          "output_type": "stream",
          "text": [
            "/usr/local/lib/python3.7/dist-packages/ipykernel_launcher.py:7: UserWarning: volatile was removed and now has no effect. Use `with torch.no_grad():` instead.\n",
            "  import sys\n"
          ],
          "name": "stderr"
        }
      ]
    },
    {
      "cell_type": "code",
      "metadata": {
        "colab": {
          "base_uri": "https://localhost:8080/",
          "height": 425
        },
        "id": "GSzarN74NunV",
        "outputId": "2532df27-b22a-497f-e441-eb445a65d63a"
      },
      "source": [
        "### 모델 학습을 위한 반복문\r\n",
        "# 데이터셋을 100번 돌며 학습한다.\r\n",
        "for epoch in range(100):\r\n",
        "    \r\n",
        "    if leave_log:\r\n",
        "        D_losses = []\r\n",
        "        G_losses = []\r\n",
        "    \r\n",
        "    # 한번에 batch_size만큼 데이터를 가져온다.\r\n",
        "    for real_data, _ in dataloader:\r\n",
        "        batch_size = real_data.size(0)\r\n",
        "        \r\n",
        "        # 데이터를 pytorch의 변수로 변환한다.\r\n",
        "        real_data = Variable(real_data)\r\n",
        "\r\n",
        "        ### 구분자 학습시키기\r\n",
        "\r\n",
        "        # 이미지가 진짜일 때 정답 값은 1이고 가짜일 때는 0이다.\r\n",
        "        # 정답지에 해당하는 변수를 만든다.\r\n",
        "        target_real = Variable(torch.ones(batch_size, 1))\r\n",
        "        target_fake = Variable(torch.zeros(batch_size, 1))\r\n",
        "         \r\n",
        "        if use_gpu:\r\n",
        "            real_data, target_real, target_fake = real_data.cuda(), target_real.cuda(), target_fake.cuda()\r\n",
        "            \r\n",
        "        # 진짜 이미지를 구분자에 넣는다.\r\n",
        "        D_result_from_real = D(real_data)\r\n",
        "        # 구분자의 출력값이 정답지인 1에서 멀수록 loss가 높아진다.\r\n",
        "        D_loss_real = criterion(D_result_from_real, target_real)\r\n",
        "\r\n",
        "        # 생성자에 입력으로 줄 랜덤 벡터 z를 만든다.\r\n",
        "        z = Variable(torch.randn((batch_size, 100)))\r\n",
        "        \r\n",
        "        if use_gpu:\r\n",
        "            z = z.cuda()\r\n",
        "            \r\n",
        "        # 생성자로 가짜 이미지를 생성한다.\r\n",
        "        fake_data = G(z)\r\n",
        "        \r\n",
        "        # 생성자가 만든 가짜 이미지를 구분자에 넣는다.\r\n",
        "        D_result_from_fake = D(fake_data)\r\n",
        "        # 구분자의 출력값이 정답지인 0에서 멀수록 loss가 높아진다.\r\n",
        "        D_loss_fake = criterion(D_result_from_fake, target_fake)\r\n",
        "        \r\n",
        "        # 구분자의 loss는 두 문제에서 계산된 loss의 합이다.\r\n",
        "        D_loss = D_loss_real + D_loss_fake\r\n",
        "        \r\n",
        "        # 구분자의 매개 변수의 미분값을 0으로 초기화한다.\r\n",
        "        D.zero_grad()\r\n",
        "        # 역전파를 통해 매개 변수의 loss에 대한 미분값을 계산한다.\r\n",
        "        D_loss.backward()\r\n",
        "        # 최적화 기법을 이용해 구분자의 매개 변수를 업데이트한다.\r\n",
        "        D_optimizer.step()\r\n",
        "        \r\n",
        "        if leave_log:\r\n",
        "            D_losses.append(D_loss.data[0])\r\n",
        "\r\n",
        "        # train generator G\r\n",
        "\r\n",
        "        ### 생성자 학습시키기\r\n",
        "        \r\n",
        "        # 생성자에 입력으로 줄 랜덤 벡터 z를 만든다.\r\n",
        "        z = Variable(torch.randn((batch_size, 100)))\r\n",
        "        \r\n",
        "        if use_gpu:\r\n",
        "            z = z.cuda()\r\n",
        "        \r\n",
        "        # 생성자로 가짜 이미지를 생성한다.\r\n",
        "        fake_data = G(z)\r\n",
        "        # 생성자가 만든 가짜 이미지를 구분자에 넣는다.\r\n",
        "        D_result_from_fake = D(fake_data)\r\n",
        "        # 생성자의 입장에서 구분자의 출력값이 1에서 멀수록 loss가 높아진다.\r\n",
        "        G_loss = criterion(D_result_from_fake, target_real)\r\n",
        "        \r\n",
        "        # 생성자의 매개 변수의 미분값을 0으로 초기화한다.\r\n",
        "        G.zero_grad()\r\n",
        "        # 역전파를 통해 매개 변수의 loss에 대한 미분값을 계산한다.\r\n",
        "        G_loss.backward()\r\n",
        "        # 최적화 기법을 이용해 생성자의 매개 변수를 업데이트한다.\r\n",
        "        G_optimizer.step()\r\n",
        "        \r\n",
        "        if leave_log:\r\n",
        "            G_losses.append(G_loss.data[0])\r\n",
        "    if leave_log:\r\n",
        "        true_positive_rate = (D_result_from_real > 0.5).float().mean().data[0]\r\n",
        "        true_negative_rate = (D_result_from_fake < 0.5).float().mean().data[0]\r\n",
        "        base_message = (\"Epoch: {epoch:<3d} D Loss: {d_loss:<8.6} G Loss: {g_loss:<8.6} \"\r\n",
        "                        \"True Positive Rate: {tpr:<5.1%} True Negative Rate: {tnr:<5.1%}\"\r\n",
        "                       )\r\n",
        "        message = base_message.format(\r\n",
        "                    epoch=epoch,\r\n",
        "                    d_loss=sum(D_losses)/len(D_losses),\r\n",
        "                    g_loss=sum(G_losses)/len(G_losses),\r\n",
        "                    tpr=true_positive_rate,\r\n",
        "                    tnr=true_negative_rate\r\n",
        "        )\r\n",
        "        print(message)\r\n",
        "    \r\n",
        "    if leave_log:\r\n",
        "        fake_data_fixed = G(z_fixed)\r\n",
        "        image_path = result_dir + '/epoch{}.png'.format(epoch)\r\n",
        "        square_plot(fake_data_fixed.view(25, 28, 28).cpu().data.numpy(), path=image_path)\r\n",
        "        generated_images.append(image_path)\r\n",
        "    \r\n",
        "    if leave_log:\r\n",
        "        train_hist['D_losses'].append(torch.mean(torch.FloatTensor(D_losses)))\r\n",
        "        train_hist['G_losses'].append(torch.mean(torch.FloatTensor(G_losses)))\r\n",
        "\r\n",
        "torch.save(G.state_dict(), \"gan_generator.pkl\")\r\n",
        "torch.save(D.state_dict(), \"gan_discriminator.pkl\")\r\n",
        "with open('gan_train_history.pkl', 'wb') as f:\r\n",
        "    pickle.dump(train_hist, f)\r\n",
        "\r\n",
        "generated_image_array = [imageio.imread(generated_image) for generated_image in generated_images]\r\n",
        "imageio.mimsave(result_dir + '/GAN_generation.gif', generated_image_array, fps=5)"
      ],
      "execution_count": 9,
      "outputs": [
        {
          "output_type": "error",
          "ename": "RuntimeError",
          "evalue": "ignored",
          "traceback": [
            "\u001b[0;31m---------------------------------------------------------------------------\u001b[0m",
            "\u001b[0;31mRuntimeError\u001b[0m                              Traceback (most recent call last)",
            "\u001b[0;32m<ipython-input-9-6db506c9ae9d>\u001b[0m in \u001b[0;36m<module>\u001b[0;34m()\u001b[0m\n\u001b[1;32m     49\u001b[0m         \u001b[0mD\u001b[0m\u001b[0;34m.\u001b[0m\u001b[0mzero_grad\u001b[0m\u001b[0;34m(\u001b[0m\u001b[0;34m)\u001b[0m\u001b[0;34m\u001b[0m\u001b[0;34m\u001b[0m\u001b[0m\n\u001b[1;32m     50\u001b[0m         \u001b[0;31m# 역전파를 통해 매개 변수의 loss에 대한 미분값을 계산한다.\u001b[0m\u001b[0;34m\u001b[0m\u001b[0;34m\u001b[0m\u001b[0;34m\u001b[0m\u001b[0m\n\u001b[0;32m---> 51\u001b[0;31m         \u001b[0mD_loss\u001b[0m\u001b[0;34m.\u001b[0m\u001b[0mbackward\u001b[0m\u001b[0;34m(\u001b[0m\u001b[0;34m)\u001b[0m\u001b[0;34m\u001b[0m\u001b[0;34m\u001b[0m\u001b[0m\n\u001b[0m\u001b[1;32m     52\u001b[0m         \u001b[0;31m# 최적화 기법을 이용해 구분자의 매개 변수를 업데이트한다.\u001b[0m\u001b[0;34m\u001b[0m\u001b[0;34m\u001b[0m\u001b[0;34m\u001b[0m\u001b[0m\n\u001b[1;32m     53\u001b[0m         \u001b[0mD_optimizer\u001b[0m\u001b[0;34m.\u001b[0m\u001b[0mstep\u001b[0m\u001b[0;34m(\u001b[0m\u001b[0;34m)\u001b[0m\u001b[0;34m\u001b[0m\u001b[0;34m\u001b[0m\u001b[0m\n",
            "\u001b[0;32m/usr/local/lib/python3.7/dist-packages/torch/tensor.py\u001b[0m in \u001b[0;36mbackward\u001b[0;34m(self, gradient, retain_graph, create_graph, inputs)\u001b[0m\n\u001b[1;32m    243\u001b[0m                 \u001b[0mcreate_graph\u001b[0m\u001b[0;34m=\u001b[0m\u001b[0mcreate_graph\u001b[0m\u001b[0;34m,\u001b[0m\u001b[0;34m\u001b[0m\u001b[0;34m\u001b[0m\u001b[0m\n\u001b[1;32m    244\u001b[0m                 inputs=inputs)\n\u001b[0;32m--> 245\u001b[0;31m         \u001b[0mtorch\u001b[0m\u001b[0;34m.\u001b[0m\u001b[0mautograd\u001b[0m\u001b[0;34m.\u001b[0m\u001b[0mbackward\u001b[0m\u001b[0;34m(\u001b[0m\u001b[0mself\u001b[0m\u001b[0;34m,\u001b[0m \u001b[0mgradient\u001b[0m\u001b[0;34m,\u001b[0m \u001b[0mretain_graph\u001b[0m\u001b[0;34m,\u001b[0m \u001b[0mcreate_graph\u001b[0m\u001b[0;34m,\u001b[0m \u001b[0minputs\u001b[0m\u001b[0;34m=\u001b[0m\u001b[0minputs\u001b[0m\u001b[0;34m)\u001b[0m\u001b[0;34m\u001b[0m\u001b[0;34m\u001b[0m\u001b[0m\n\u001b[0m\u001b[1;32m    246\u001b[0m \u001b[0;34m\u001b[0m\u001b[0m\n\u001b[1;32m    247\u001b[0m     \u001b[0;32mdef\u001b[0m \u001b[0mregister_hook\u001b[0m\u001b[0;34m(\u001b[0m\u001b[0mself\u001b[0m\u001b[0;34m,\u001b[0m \u001b[0mhook\u001b[0m\u001b[0;34m)\u001b[0m\u001b[0;34m:\u001b[0m\u001b[0;34m\u001b[0m\u001b[0;34m\u001b[0m\u001b[0m\n",
            "\u001b[0;32m/usr/local/lib/python3.7/dist-packages/torch/autograd/__init__.py\u001b[0m in \u001b[0;36mbackward\u001b[0;34m(tensors, grad_tensors, retain_graph, create_graph, grad_variables, inputs)\u001b[0m\n\u001b[1;32m    145\u001b[0m     Variable._execution_engine.run_backward(\n\u001b[1;32m    146\u001b[0m         \u001b[0mtensors\u001b[0m\u001b[0;34m,\u001b[0m \u001b[0mgrad_tensors_\u001b[0m\u001b[0;34m,\u001b[0m \u001b[0mretain_graph\u001b[0m\u001b[0;34m,\u001b[0m \u001b[0mcreate_graph\u001b[0m\u001b[0;34m,\u001b[0m \u001b[0minputs\u001b[0m\u001b[0;34m,\u001b[0m\u001b[0;34m\u001b[0m\u001b[0;34m\u001b[0m\u001b[0m\n\u001b[0;32m--> 147\u001b[0;31m         allow_unreachable=True, accumulate_grad=True)  # allow_unreachable flag\n\u001b[0m\u001b[1;32m    148\u001b[0m \u001b[0;34m\u001b[0m\u001b[0m\n\u001b[1;32m    149\u001b[0m \u001b[0;34m\u001b[0m\u001b[0m\n",
            "\u001b[0;31mRuntimeError\u001b[0m: one of the variables needed for gradient computation has been modified by an inplace operation: [torch.cuda.FloatTensor [60, 256]], which is output 0 of LeakyReluBackward1, is at version 2; expected version 1 instead. Hint: enable anomaly detection to find the operation that failed to compute its gradient, with torch.autograd.set_detect_anomaly(True)."
          ]
        }
      ]
    },
    {
      "cell_type": "code",
      "metadata": {
        "colab": {
          "base_uri": "https://localhost:8080/"
        },
        "id": "K6G20lE_ULF8",
        "outputId": "54cc12c7-975a-4b74-a43e-7be04e8957b6"
      },
      "source": [
        ""
      ],
      "execution_count": 21,
      "outputs": [
        {
          "output_type": "stream",
          "text": [
            "/usr/local/lib/python3.7/dist-packages/ipykernel_launcher.py:7: UserWarning: volatile was removed and now has no effect. Use `with torch.no_grad():` instead.\n",
            "  import sys\n"
          ],
          "name": "stderr"
        }
      ]
    },
    {
      "cell_type": "code",
      "metadata": {
        "id": "y6DY-xiiUNpc"
      },
      "source": [
        ""
      ],
      "execution_count": 9,
      "outputs": []
    },
    {
      "cell_type": "code",
      "metadata": {
        "id": "smqI6PNiUS4c"
      },
      "source": [
        ""
      ],
      "execution_count": null,
      "outputs": []
    }
  ]
}